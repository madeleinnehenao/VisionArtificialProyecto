{
 "cells": [
  {
   "cell_type": "markdown",
   "metadata": {},
   "source": [
    "# Reconocimiento de señales de tránsito y semáforos."
   ]
  },
  {
   "cell_type": "markdown",
   "metadata": {},
   "source": [
    "\n",
    "## Resumen\n",
    "El reconocimiento automatizado de señales de tránsito y semáforos desempeña un papel crucial en la mejora de la seguridad vial y la eficiencia del tráfico en entornos urbanos y rurales. Para la realización de este trabajo se utilizó el dataset de la prueba comparativa alemana de reconocimiento de señales de tráfico (GTSRB), por sus siglas en inglés. Este contiene **43 clases** de señales de tráfico, divididas en **39.209** imágenes de entrenamiento y **12.630** imágenes de prueba.\n",
    "\n",
    "Poder identificar y clasificar las señales de tránsito, para las empresas de manufactura de carros será una gran ventaja, permitiendo la conducción automática. Ejemplos de esto son empresas como Tesla, Ford, BMW, que ya tienen incorporado en alguno de sus modelos esta tecnología. \n",
    "\n",
    "- Realizar un análisis exploratorio del dataset\n",
    "- Analizar los histogramas de una muestra\n",
    "- Falta por poner que canales se analizaron\n",
    "- Realizar transformaciones a la muestra a ver si eso mejora la imágen. "
   ]
  },
  {
   "cell_type": "markdown",
   "metadata": {},
   "source": [
    "## Integrantes\n",
    "* Maria Paula Garzón Caicedo\n",
    "* Juan Gabriel Góez Duque\n",
    "* Gustavo Alonso Gomez Morales\n",
    "* Madeleinne Paulina Henao García\n",
    "* Oscar David Pérez Quintero\n"
   ]
  },
  {
   "cell_type": "code",
   "execution_count": null,
   "metadata": {},
   "outputs": [],
   "source": []
  }
 ],
 "metadata": {
  "language_info": {
   "name": "python"
  }
 },
 "nbformat": 4,
 "nbformat_minor": 2
}
